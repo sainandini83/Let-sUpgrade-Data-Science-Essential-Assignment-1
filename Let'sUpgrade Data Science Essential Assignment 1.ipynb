{
 "cells": [
  {
   "cell_type": "markdown",
   "metadata": {},
   "source": [
    "Let'sUpgrade Data Science Essential Assignment 1(20-3-21)\n",
    "\n",
    "\n",
    "Done By Sai Nandini Batta"
   ]
  },
  {
   "cell_type": "code",
   "execution_count": 118,
   "metadata": {},
   "outputs": [],
   "source": [
    "import numpy as np #importin numpy \n",
    "import pandas as pd # importing pandas\n"
   ]
  },
  {
   "cell_type": "code",
   "execution_count": 119,
   "metadata": {},
   "outputs": [
    {
     "data": {
      "text/plain": [
       "array([ 1,  2,  3,  4,  5,  6,  7,  8,  9, 10, 11, 12, 13, 14, 15, 16, 17,\n",
       "       18, 19, 20, 21, 22, 23, 24, 25, 26, 27, 28, 29, 30, 31, 32, 33, 34,\n",
       "       35, 36, 37, 38, 39, 40, 41, 42, 43, 44, 45, 46, 47, 48, 49, 50, 51,\n",
       "       52, 53, 54, 55, 56, 57, 58, 59, 60])"
      ]
     },
     "execution_count": 119,
     "metadata": {},
     "output_type": "execute_result"
    }
   ],
   "source": [
    "array = np.arange(1,61) # creating numpy array(1-60)\n",
    "array"
   ]
  },
  {
   "cell_type": "code",
   "execution_count": 120,
   "metadata": {},
   "outputs": [
    {
     "data": {
      "text/plain": [
       "(60,)"
      ]
     },
     "execution_count": 120,
     "metadata": {},
     "output_type": "execute_result"
    }
   ],
   "source": [
    "array.shape"
   ]
  },
  {
   "cell_type": "code",
   "execution_count": 121,
   "metadata": {},
   "outputs": [
    {
     "data": {
      "text/plain": [
       "4"
      ]
     },
     "execution_count": 121,
     "metadata": {},
     "output_type": "execute_result"
    }
   ],
   "source": [
    "array[3]"
   ]
  },
  {
   "cell_type": "code",
   "execution_count": 122,
   "metadata": {},
   "outputs": [
    {
     "data": {
      "text/plain": [
       "array([ 1,  2,  3,  4,  5,  6,  7,  8,  9, 10, 11, 12, 13, 14, 15, 16, 17,\n",
       "       18, 19, 20, 21, 22, 23, 24, 25, 26, 27, 28, 29, 30, 31, 32, 33, 34,\n",
       "       35, 36, 37, 38, 39, 40, 41, 42, 43, 44, 45, 46, 47, 48, 49, 50, 51,\n",
       "       52, 53, 54, 55, 56, 57, 58, 59, 60])"
      ]
     },
     "execution_count": 122,
     "metadata": {},
     "output_type": "execute_result"
    }
   ],
   "source": [
    "array"
   ]
  },
  {
   "cell_type": "code",
   "execution_count": 123,
   "metadata": {},
   "outputs": [
    {
     "data": {
      "text/plain": [
       "array([[[ 1,  2,  3,  4],\n",
       "        [ 5,  6,  7,  8],\n",
       "        [ 9, 10, 11, 12]],\n",
       "\n",
       "       [[13, 14, 15, 16],\n",
       "        [17, 18, 19, 20],\n",
       "        [21, 22, 23, 24]],\n",
       "\n",
       "       [[25, 26, 27, 28],\n",
       "        [29, 30, 31, 32],\n",
       "        [33, 34, 35, 36]],\n",
       "\n",
       "       [[37, 38, 39, 40],\n",
       "        [41, 42, 43, 44],\n",
       "        [45, 46, 47, 48]],\n",
       "\n",
       "       [[49, 50, 51, 52],\n",
       "        [53, 54, 55, 56],\n",
       "        [57, 58, 59, 60]]])"
      ]
     },
     "execution_count": 123,
     "metadata": {},
     "output_type": "execute_result"
    }
   ],
   "source": [
    "array = np.arange(1,61).reshape(5,3,4)  #shaped the arry into 3d array\n",
    "array   #Calling the array"
   ]
  },
  {
   "cell_type": "markdown",
   "metadata": {},
   "source": [
    "# End of the Task1"
   ]
  },
  {
   "cell_type": "markdown",
   "metadata": {},
   "source": [
    "# Q-2-Reshape above NumPy 3d array to 20*3"
   ]
  },
  {
   "cell_type": "code",
   "execution_count": 124,
   "metadata": {},
   "outputs": [],
   "source": [
    "array = np.arange(1,61).reshape(20,3) #1 is start and 61 is stop number by default the array takes 1 to 60 numbers and displyas it"
   ]
  },
  {
   "cell_type": "code",
   "execution_count": 125,
   "metadata": {},
   "outputs": [
    {
     "data": {
      "text/plain": [
       "array([[ 1,  2,  3],\n",
       "       [ 4,  5,  6],\n",
       "       [ 7,  8,  9],\n",
       "       [10, 11, 12],\n",
       "       [13, 14, 15],\n",
       "       [16, 17, 18],\n",
       "       [19, 20, 21],\n",
       "       [22, 23, 24],\n",
       "       [25, 26, 27],\n",
       "       [28, 29, 30],\n",
       "       [31, 32, 33],\n",
       "       [34, 35, 36],\n",
       "       [37, 38, 39],\n",
       "       [40, 41, 42],\n",
       "       [43, 44, 45],\n",
       "       [46, 47, 48],\n",
       "       [49, 50, 51],\n",
       "       [52, 53, 54],\n",
       "       [55, 56, 57],\n",
       "       [58, 59, 60]])"
      ]
     },
     "execution_count": 125,
     "metadata": {},
     "output_type": "execute_result"
    }
   ],
   "source": [
    "array"
   ]
  },
  {
   "cell_type": "markdown",
   "metadata": {},
   "source": [
    "# End of the Task 2"
   ]
  },
  {
   "cell_type": "markdown",
   "metadata": {},
   "source": [
    "# Create a Numpy array of the student mark  and fin min,avg  of each student and min,avg of each subject"
   ]
  },
  {
   "cell_type": "code",
   "execution_count": 126,
   "metadata": {},
   "outputs": [
    {
     "data": {
      "text/plain": [
       "array([[58, 45, 72, 32],\n",
       "       [62, 76, 85, 51],\n",
       "       [85, 92, 91, 81]], dtype=int64)"
      ]
     },
     "execution_count": 126,
     "metadata": {},
     "output_type": "execute_result"
    }
   ],
   "source": [
    "df = pd.DataFrame(data={'Maths': [58,62,85], 'Physics': [45,76,92], 'Chemisrty': [72,85,91],'English':[32,51,81]}, \n",
    "                  index=['a', 'b', 'c'])\n",
    "\n",
    "# Convert the entire DataFrame\n",
    "df.to_numpy()\n",
    "# array([[1, 4, 7],\n",
    "#        [2, 5, 8],\n",
    "#        [3, 6, 9]])\n",
    "\n",
    "# Convert specific columns\n",
    "df[['Maths', 'Physics','Chemisrty','English']].to_numpy()\n",
    "# array([[1, 7],\n",
    "#        [2, 8],\n",
    "#        [3, 9]])"
   ]
  },
  {
   "cell_type": "code",
   "execution_count": null,
   "metadata": {},
   "outputs": [],
   "source": []
  },
  {
   "cell_type": "code",
   "execution_count": 127,
   "metadata": {},
   "outputs": [
    {
     "data": {
      "text/html": [
       "<div>\n",
       "<style scoped>\n",
       "    .dataframe tbody tr th:only-of-type {\n",
       "        vertical-align: middle;\n",
       "    }\n",
       "\n",
       "    .dataframe tbody tr th {\n",
       "        vertical-align: top;\n",
       "    }\n",
       "\n",
       "    .dataframe thead th {\n",
       "        text-align: right;\n",
       "    }\n",
       "</style>\n",
       "<table border=\"1\" class=\"dataframe\">\n",
       "  <thead>\n",
       "    <tr style=\"text-align: right;\">\n",
       "      <th></th>\n",
       "      <th>Names</th>\n",
       "      <th>Ravi</th>\n",
       "      <th>Sunil</th>\n",
       "      <th>Sekhar</th>\n",
       "      <th>Min of each subject</th>\n",
       "      <th>Average of each subject</th>\n",
       "    </tr>\n",
       "  </thead>\n",
       "  <tbody>\n",
       "    <tr>\n",
       "      <th>Subject</th>\n",
       "      <td>Math</td>\n",
       "      <td>58</td>\n",
       "      <td>62</td>\n",
       "      <td>85</td>\n",
       "      <td>nun</td>\n",
       "      <td>nun</td>\n",
       "    </tr>\n",
       "    <tr>\n",
       "      <th>Subject</th>\n",
       "      <td>Physics</td>\n",
       "      <td>45</td>\n",
       "      <td>76</td>\n",
       "      <td>92</td>\n",
       "      <td>nun</td>\n",
       "      <td>nun</td>\n",
       "    </tr>\n",
       "    <tr>\n",
       "      <th>Subject</th>\n",
       "      <td>Chemisrty</td>\n",
       "      <td>72</td>\n",
       "      <td>85</td>\n",
       "      <td>91</td>\n",
       "      <td>nun</td>\n",
       "      <td>nun</td>\n",
       "    </tr>\n",
       "    <tr>\n",
       "      <th>Subject</th>\n",
       "      <td>English</td>\n",
       "      <td>32</td>\n",
       "      <td>51</td>\n",
       "      <td>81</td>\n",
       "      <td>nun</td>\n",
       "      <td>nun</td>\n",
       "    </tr>\n",
       "    <tr>\n",
       "      <th>Min of each student</th>\n",
       "      <td>Min of each student</td>\n",
       "      <td>0</td>\n",
       "      <td>0</td>\n",
       "      <td>0</td>\n",
       "      <td>nun</td>\n",
       "      <td>nun</td>\n",
       "    </tr>\n",
       "    <tr>\n",
       "      <th>Avg of each student</th>\n",
       "      <td>Avg of each student</td>\n",
       "      <td>0</td>\n",
       "      <td>0</td>\n",
       "      <td>0</td>\n",
       "      <td>nun</td>\n",
       "      <td>nun</td>\n",
       "    </tr>\n",
       "  </tbody>\n",
       "</table>\n",
       "</div>"
      ],
      "text/plain": [
       "                                   Names  Ravi  Sunil  Sekhar  \\\n",
       "Subject                             Math    58     62      85   \n",
       "Subject                          Physics    45     76      92   \n",
       "Subject                        Chemisrty    72     85      91   \n",
       "Subject                          English    32     51      81   \n",
       "Min of each student  Min of each student     0      0       0   \n",
       "Avg of each student  Avg of each student     0      0       0   \n",
       "\n",
       "                    Min of each subject Average of each subject  \n",
       "Subject                             nun                     nun  \n",
       "Subject                             nun                     nun  \n",
       "Subject                             nun                     nun  \n",
       "Subject                             nun                     nun  \n",
       "Min of each student                 nun                     nun  \n",
       "Avg of each student                 nun                     nun  "
      ]
     },
     "execution_count": 127,
     "metadata": {},
     "output_type": "execute_result"
    }
   ],
   "source": [
    "dfObj"
   ]
  },
  {
   "cell_type": "code",
   "execution_count": 128,
   "metadata": {},
   "outputs": [],
   "source": [
    "# List of tuples\n",
    "students = [ ('Math', 58, 62 ,85,'nun','nun') ,\n",
    "             ('Physics', 45, 76 ,92,'nun','nun' ) ,\n",
    "             ('Chemisrty', 72, 85 ,91,'nun','nun' ) ,\n",
    "             ('English', 32, 51 , 81,'nun','nun' ) ,\n",
    "             ('Min of each student', 0, 0 , 0,'nun','nun') ,\n",
    "             ('Avg of each student', 0, 0 , 0,'nun','nun')  ]\n",
    "# Create DataFrame object from a list of tuples\n",
    "dfObj = pd.DataFrame(students, columns = ['Names','Ravi' , 'Sunil', 'Sekhar','Min of each subject','Average of each subject'], index=['Subject', 'Subject', 'Subject' , 'Subject' , 'Min of each student' , 'Avg of each student'])"
   ]
  },
  {
   "cell_type": "code",
   "execution_count": 129,
   "metadata": {},
   "outputs": [
    {
     "data": {
      "text/html": [
       "<div>\n",
       "<style scoped>\n",
       "    .dataframe tbody tr th:only-of-type {\n",
       "        vertical-align: middle;\n",
       "    }\n",
       "\n",
       "    .dataframe tbody tr th {\n",
       "        vertical-align: top;\n",
       "    }\n",
       "\n",
       "    .dataframe thead th {\n",
       "        text-align: right;\n",
       "    }\n",
       "</style>\n",
       "<table border=\"1\" class=\"dataframe\">\n",
       "  <thead>\n",
       "    <tr style=\"text-align: right;\">\n",
       "      <th></th>\n",
       "      <th>Names</th>\n",
       "      <th>Ravi</th>\n",
       "      <th>Sunil</th>\n",
       "      <th>Sekhar</th>\n",
       "      <th>Min of each subject</th>\n",
       "      <th>Average of each subject</th>\n",
       "    </tr>\n",
       "  </thead>\n",
       "  <tbody>\n",
       "    <tr>\n",
       "      <th>Subject</th>\n",
       "      <td>Math</td>\n",
       "      <td>58</td>\n",
       "      <td>62</td>\n",
       "      <td>85</td>\n",
       "      <td>nun</td>\n",
       "      <td>nun</td>\n",
       "    </tr>\n",
       "    <tr>\n",
       "      <th>Subject</th>\n",
       "      <td>Physics</td>\n",
       "      <td>45</td>\n",
       "      <td>76</td>\n",
       "      <td>92</td>\n",
       "      <td>nun</td>\n",
       "      <td>nun</td>\n",
       "    </tr>\n",
       "    <tr>\n",
       "      <th>Subject</th>\n",
       "      <td>Chemisrty</td>\n",
       "      <td>72</td>\n",
       "      <td>85</td>\n",
       "      <td>91</td>\n",
       "      <td>nun</td>\n",
       "      <td>nun</td>\n",
       "    </tr>\n",
       "    <tr>\n",
       "      <th>Subject</th>\n",
       "      <td>English</td>\n",
       "      <td>32</td>\n",
       "      <td>51</td>\n",
       "      <td>81</td>\n",
       "      <td>nun</td>\n",
       "      <td>nun</td>\n",
       "    </tr>\n",
       "    <tr>\n",
       "      <th>Min of each student</th>\n",
       "      <td>Min of each student</td>\n",
       "      <td>0</td>\n",
       "      <td>0</td>\n",
       "      <td>0</td>\n",
       "      <td>nun</td>\n",
       "      <td>nun</td>\n",
       "    </tr>\n",
       "    <tr>\n",
       "      <th>Avg of each student</th>\n",
       "      <td>Avg of each student</td>\n",
       "      <td>0</td>\n",
       "      <td>0</td>\n",
       "      <td>0</td>\n",
       "      <td>nun</td>\n",
       "      <td>nun</td>\n",
       "    </tr>\n",
       "  </tbody>\n",
       "</table>\n",
       "</div>"
      ],
      "text/plain": [
       "                                   Names  Ravi  Sunil  Sekhar  \\\n",
       "Subject                             Math    58     62      85   \n",
       "Subject                          Physics    45     76      92   \n",
       "Subject                        Chemisrty    72     85      91   \n",
       "Subject                          English    32     51      81   \n",
       "Min of each student  Min of each student     0      0       0   \n",
       "Avg of each student  Avg of each student     0      0       0   \n",
       "\n",
       "                    Min of each subject Average of each subject  \n",
       "Subject                             nun                     nun  \n",
       "Subject                             nun                     nun  \n",
       "Subject                             nun                     nun  \n",
       "Subject                             nun                     nun  \n",
       "Min of each student                 nun                     nun  \n",
       "Avg of each student                 nun                     nun  "
      ]
     },
     "execution_count": 129,
     "metadata": {},
     "output_type": "execute_result"
    }
   ],
   "source": [
    "dfObj"
   ]
  },
  {
   "cell_type": "code",
   "execution_count": 130,
   "metadata": {},
   "outputs": [
    {
     "data": {
      "text/plain": [
       "32"
      ]
     },
     "execution_count": 130,
     "metadata": {},
     "output_type": "execute_result"
    }
   ],
   "source": [
    "min_of_each_student_Ravi=min(58,45,72,32)\n",
    "min_of_each_student_Ravi"
   ]
  },
  {
   "cell_type": "code",
   "execution_count": 131,
   "metadata": {},
   "outputs": [
    {
     "data": {
      "text/plain": [
       "51"
      ]
     },
     "execution_count": 131,
     "metadata": {},
     "output_type": "execute_result"
    }
   ],
   "source": [
    "min_of_each_student_Sunil=min(62,76,85,51)\n",
    "min_of_each_student_Sunil\n",
    "\n"
   ]
  },
  {
   "cell_type": "code",
   "execution_count": 132,
   "metadata": {},
   "outputs": [
    {
     "data": {
      "text/plain": [
       "81"
      ]
     },
     "execution_count": 132,
     "metadata": {},
     "output_type": "execute_result"
    }
   ],
   "source": [
    "min_of_each_student_Sekhar=min(85,92,91,81)\n",
    "min_of_each_student_Sekhar"
   ]
  },
  {
   "cell_type": "code",
   "execution_count": 133,
   "metadata": {},
   "outputs": [
    {
     "data": {
      "text/plain": [
       "58"
      ]
     },
     "execution_count": 133,
     "metadata": {},
     "output_type": "execute_result"
    }
   ],
   "source": [
    "Min_of_each_subject_Maths=min(58,62,85)\n",
    "Min_of_each_subject_Maths"
   ]
  },
  {
   "cell_type": "markdown",
   "metadata": {},
   "source": [
    "LetsUpgrade Data science Assignmint(20-3-2021)\n",
    "\n",
    "Done By Sai Nandini Batta"
   ]
  },
  {
   "cell_type": "code",
   "execution_count": 134,
   "metadata": {},
   "outputs": [
    {
     "data": {
      "text/plain": [
       "45"
      ]
     },
     "execution_count": 134,
     "metadata": {},
     "output_type": "execute_result"
    }
   ],
   "source": [
    "Min_of_each_subject_Physics=min(45,76,92)\n",
    "Min_of_each_subject_Physics"
   ]
  },
  {
   "cell_type": "code",
   "execution_count": 135,
   "metadata": {},
   "outputs": [
    {
     "data": {
      "text/plain": [
       "72"
      ]
     },
     "execution_count": 135,
     "metadata": {},
     "output_type": "execute_result"
    }
   ],
   "source": [
    "Min_of_each_subject_Chemisrty=min(72,85,91)\n",
    "Min_of_each_subject_Chemisrty\n"
   ]
  },
  {
   "cell_type": "code",
   "execution_count": 136,
   "metadata": {},
   "outputs": [
    {
     "data": {
      "text/plain": [
       "32"
      ]
     },
     "execution_count": 136,
     "metadata": {},
     "output_type": "execute_result"
    }
   ],
   "source": [
    "Min_of_each_subject_English=min(32,51,81)\n",
    "Min_of_each_subject_English"
   ]
  },
  {
   "cell_type": "code",
   "execution_count": 137,
   "metadata": {},
   "outputs": [],
   "source": [
    "# to find avg of each subject and student"
   ]
  },
  {
   "cell_type": "code",
   "execution_count": 138,
   "metadata": {},
   "outputs": [
    {
     "data": {
      "text/html": [
       "<div>\n",
       "<style scoped>\n",
       "    .dataframe tbody tr th:only-of-type {\n",
       "        vertical-align: middle;\n",
       "    }\n",
       "\n",
       "    .dataframe tbody tr th {\n",
       "        vertical-align: top;\n",
       "    }\n",
       "\n",
       "    .dataframe thead th {\n",
       "        text-align: right;\n",
       "    }\n",
       "</style>\n",
       "<table border=\"1\" class=\"dataframe\">\n",
       "  <thead>\n",
       "    <tr style=\"text-align: right;\">\n",
       "      <th></th>\n",
       "      <th>Names</th>\n",
       "      <th>Ravi</th>\n",
       "      <th>Sunil</th>\n",
       "      <th>Sekhar</th>\n",
       "      <th>Min of each subject</th>\n",
       "      <th>Average of each subject</th>\n",
       "    </tr>\n",
       "  </thead>\n",
       "  <tbody>\n",
       "    <tr>\n",
       "      <th>Subject</th>\n",
       "      <td>Math</td>\n",
       "      <td>58</td>\n",
       "      <td>62</td>\n",
       "      <td>85</td>\n",
       "      <td>nun</td>\n",
       "      <td>nun</td>\n",
       "    </tr>\n",
       "    <tr>\n",
       "      <th>Subject</th>\n",
       "      <td>Physics</td>\n",
       "      <td>45</td>\n",
       "      <td>76</td>\n",
       "      <td>92</td>\n",
       "      <td>nun</td>\n",
       "      <td>nun</td>\n",
       "    </tr>\n",
       "    <tr>\n",
       "      <th>Subject</th>\n",
       "      <td>Chemisrty</td>\n",
       "      <td>72</td>\n",
       "      <td>85</td>\n",
       "      <td>91</td>\n",
       "      <td>nun</td>\n",
       "      <td>nun</td>\n",
       "    </tr>\n",
       "    <tr>\n",
       "      <th>Subject</th>\n",
       "      <td>English</td>\n",
       "      <td>32</td>\n",
       "      <td>51</td>\n",
       "      <td>81</td>\n",
       "      <td>nun</td>\n",
       "      <td>nun</td>\n",
       "    </tr>\n",
       "    <tr>\n",
       "      <th>Min of each student</th>\n",
       "      <td>Min of each student</td>\n",
       "      <td>0</td>\n",
       "      <td>0</td>\n",
       "      <td>0</td>\n",
       "      <td>nun</td>\n",
       "      <td>nun</td>\n",
       "    </tr>\n",
       "    <tr>\n",
       "      <th>Avg of each student</th>\n",
       "      <td>Avg of each student</td>\n",
       "      <td>0</td>\n",
       "      <td>0</td>\n",
       "      <td>0</td>\n",
       "      <td>nun</td>\n",
       "      <td>nun</td>\n",
       "    </tr>\n",
       "  </tbody>\n",
       "</table>\n",
       "</div>"
      ],
      "text/plain": [
       "                                   Names  Ravi  Sunil  Sekhar  \\\n",
       "Subject                             Math    58     62      85   \n",
       "Subject                          Physics    45     76      92   \n",
       "Subject                        Chemisrty    72     85      91   \n",
       "Subject                          English    32     51      81   \n",
       "Min of each student  Min of each student     0      0       0   \n",
       "Avg of each student  Avg of each student     0      0       0   \n",
       "\n",
       "                    Min of each subject Average of each subject  \n",
       "Subject                             nun                     nun  \n",
       "Subject                             nun                     nun  \n",
       "Subject                             nun                     nun  \n",
       "Subject                             nun                     nun  \n",
       "Min of each student                 nun                     nun  \n",
       "Avg of each student                 nun                     nun  "
      ]
     },
     "execution_count": 138,
     "metadata": {},
     "output_type": "execute_result"
    }
   ],
   "source": [
    "dfObj"
   ]
  },
  {
   "cell_type": "code",
   "execution_count": 139,
   "metadata": {},
   "outputs": [
    {
     "name": "stdout",
     "output_type": "stream",
     "text": [
      "The average is 51.75\n"
     ]
    }
   ],
   "source": [
    "def Avg_of_each_student_Ravi(num):\n",
    "    sum_num = 0\n",
    "    for t in num:\n",
    "        sum_num = sum_num + t           \n",
    "\n",
    "    avg = sum_num / len(num)\n",
    "    return avg\n",
    "\n",
    "print(\"The average is\", Avg_of_each_student_Ravi([58,45,72,32]))"
   ]
  },
  {
   "cell_type": "code",
   "execution_count": 140,
   "metadata": {},
   "outputs": [
    {
     "name": "stdout",
     "output_type": "stream",
     "text": [
      "The average is 68.5\n"
     ]
    }
   ],
   "source": [
    "def Avg_of_each_student_Sunil(num):\n",
    "    sum_num = 0\n",
    "    for t in num:\n",
    "        sum_num = sum_num + t           \n",
    "\n",
    "    avg = sum_num / len(num)\n",
    "    return avg\n",
    "\n",
    "print(\"The average is\", Avg_of_each_student_Sunil([62,76,85,51]))"
   ]
  },
  {
   "cell_type": "code",
   "execution_count": 141,
   "metadata": {},
   "outputs": [
    {
     "name": "stdout",
     "output_type": "stream",
     "text": [
      "The average is 87.25\n"
     ]
    }
   ],
   "source": [
    "def Avg_of_each_student_Sekhar(num):\n",
    "    sum_num = 0\n",
    "    for t in num:\n",
    "        sum_num = sum_num + t           \n",
    "\n",
    "    avg = sum_num / len(num)\n",
    "    return avg\n",
    "\n",
    "print(\"The average is\", Avg_of_each_student_Sekhar([85,92,91,81]))"
   ]
  },
  {
   "cell_type": "code",
   "execution_count": 142,
   "metadata": {},
   "outputs": [
    {
     "name": "stdout",
     "output_type": "stream",
     "text": [
      "The average is 68.33333333333333\n"
     ]
    }
   ],
   "source": [
    "def Average_of_each_subject_math(num):\n",
    "    sum_num = 0\n",
    "    for t in num:\n",
    "        sum_num = sum_num + t           \n",
    "\n",
    "    avg = sum_num / len(num)\n",
    "    return avg\n",
    "\n",
    "print(\"The average is\", Average_of_each_subject_math([58,62,85]))"
   ]
  },
  {
   "cell_type": "code",
   "execution_count": 143,
   "metadata": {},
   "outputs": [
    {
     "data": {
      "text/html": [
       "<div>\n",
       "<style scoped>\n",
       "    .dataframe tbody tr th:only-of-type {\n",
       "        vertical-align: middle;\n",
       "    }\n",
       "\n",
       "    .dataframe tbody tr th {\n",
       "        vertical-align: top;\n",
       "    }\n",
       "\n",
       "    .dataframe thead th {\n",
       "        text-align: right;\n",
       "    }\n",
       "</style>\n",
       "<table border=\"1\" class=\"dataframe\">\n",
       "  <thead>\n",
       "    <tr style=\"text-align: right;\">\n",
       "      <th></th>\n",
       "      <th>Names</th>\n",
       "      <th>Ravi</th>\n",
       "      <th>Sunil</th>\n",
       "      <th>Sekhar</th>\n",
       "      <th>Min of each subject</th>\n",
       "      <th>Average of each subject</th>\n",
       "    </tr>\n",
       "  </thead>\n",
       "  <tbody>\n",
       "    <tr>\n",
       "      <th>Subject</th>\n",
       "      <td>Math</td>\n",
       "      <td>58</td>\n",
       "      <td>62</td>\n",
       "      <td>85</td>\n",
       "      <td>nun</td>\n",
       "      <td>nun</td>\n",
       "    </tr>\n",
       "    <tr>\n",
       "      <th>Subject</th>\n",
       "      <td>Physics</td>\n",
       "      <td>45</td>\n",
       "      <td>76</td>\n",
       "      <td>92</td>\n",
       "      <td>nun</td>\n",
       "      <td>nun</td>\n",
       "    </tr>\n",
       "    <tr>\n",
       "      <th>Subject</th>\n",
       "      <td>Chemisrty</td>\n",
       "      <td>72</td>\n",
       "      <td>85</td>\n",
       "      <td>91</td>\n",
       "      <td>nun</td>\n",
       "      <td>nun</td>\n",
       "    </tr>\n",
       "    <tr>\n",
       "      <th>Subject</th>\n",
       "      <td>English</td>\n",
       "      <td>32</td>\n",
       "      <td>51</td>\n",
       "      <td>81</td>\n",
       "      <td>nun</td>\n",
       "      <td>nun</td>\n",
       "    </tr>\n",
       "    <tr>\n",
       "      <th>Min of each student</th>\n",
       "      <td>Min of each student</td>\n",
       "      <td>0</td>\n",
       "      <td>0</td>\n",
       "      <td>0</td>\n",
       "      <td>nun</td>\n",
       "      <td>nun</td>\n",
       "    </tr>\n",
       "    <tr>\n",
       "      <th>Avg of each student</th>\n",
       "      <td>Avg of each student</td>\n",
       "      <td>0</td>\n",
       "      <td>0</td>\n",
       "      <td>0</td>\n",
       "      <td>nun</td>\n",
       "      <td>nun</td>\n",
       "    </tr>\n",
       "  </tbody>\n",
       "</table>\n",
       "</div>"
      ],
      "text/plain": [
       "                                   Names  Ravi  Sunil  Sekhar  \\\n",
       "Subject                             Math    58     62      85   \n",
       "Subject                          Physics    45     76      92   \n",
       "Subject                        Chemisrty    72     85      91   \n",
       "Subject                          English    32     51      81   \n",
       "Min of each student  Min of each student     0      0       0   \n",
       "Avg of each student  Avg of each student     0      0       0   \n",
       "\n",
       "                    Min of each subject Average of each subject  \n",
       "Subject                             nun                     nun  \n",
       "Subject                             nun                     nun  \n",
       "Subject                             nun                     nun  \n",
       "Subject                             nun                     nun  \n",
       "Min of each student                 nun                     nun  \n",
       "Avg of each student                 nun                     nun  "
      ]
     },
     "execution_count": 143,
     "metadata": {},
     "output_type": "execute_result"
    }
   ],
   "source": [
    "dfObj\n"
   ]
  },
  {
   "cell_type": "code",
   "execution_count": 144,
   "metadata": {},
   "outputs": [
    {
     "name": "stdout",
     "output_type": "stream",
     "text": [
      "The average is 71.0\n"
     ]
    }
   ],
   "source": [
    "def Average_of_each_subject_Physics(num):\n",
    "    sum_num = 0\n",
    "    for t in num:\n",
    "        sum_num = sum_num + t           \n",
    "\n",
    "    avg = sum_num / len(num)\n",
    "    return avg\n",
    "\n",
    "print(\"The average is\", Average_of_each_subject_math([45,76,92]))"
   ]
  },
  {
   "cell_type": "code",
   "execution_count": 145,
   "metadata": {},
   "outputs": [
    {
     "name": "stdout",
     "output_type": "stream",
     "text": [
      "The average is 82.66666666666667\n"
     ]
    }
   ],
   "source": [
    "def Average_of_each_subject_Chemistry(num):\n",
    "    sum_num = 0\n",
    "    for t in num:\n",
    "        sum_num = sum_num + t           \n",
    "\n",
    "    avg = sum_num / len(num)\n",
    "    return avg\n",
    "\n",
    "print(\"The average is\", Average_of_each_subject_math([72,85,91]))"
   ]
  },
  {
   "cell_type": "code",
   "execution_count": 146,
   "metadata": {},
   "outputs": [
    {
     "name": "stdout",
     "output_type": "stream",
     "text": [
      "The average is 54.666666666666664\n"
     ]
    }
   ],
   "source": [
    "def Average_of_each_subject_English(num):\n",
    "    sum_num = 0\n",
    "    for t in num:\n",
    "        sum_num = sum_num + t           \n",
    "\n",
    "    avg = sum_num / len(num)\n",
    "    return avg\n",
    "\n",
    "print(\"The average is\", Average_of_each_subject_math([32,51,81]))"
   ]
  },
  {
   "cell_type": "markdown",
   "metadata": {},
   "source": [
    "# Calulated in Excel sheet And single solution"
   ]
  },
  {
   "cell_type": "code",
   "execution_count": 147,
   "metadata": {},
   "outputs": [],
   "source": [
    "Studentdata=pd.read_excel(\"Letsupgrade Excel sheet.xlsx\")"
   ]
  },
  {
   "cell_type": "code",
   "execution_count": 148,
   "metadata": {},
   "outputs": [
    {
     "data": {
      "text/html": [
       "<div>\n",
       "<style scoped>\n",
       "    .dataframe tbody tr th:only-of-type {\n",
       "        vertical-align: middle;\n",
       "    }\n",
       "\n",
       "    .dataframe tbody tr th {\n",
       "        vertical-align: top;\n",
       "    }\n",
       "\n",
       "    .dataframe thead th {\n",
       "        text-align: right;\n",
       "    }\n",
       "</style>\n",
       "<table border=\"1\" class=\"dataframe\">\n",
       "  <thead>\n",
       "    <tr style=\"text-align: right;\">\n",
       "      <th></th>\n",
       "      <th>Unnamed: 0</th>\n",
       "      <th>Ravi</th>\n",
       "      <th>Sunil</th>\n",
       "      <th>Sekhar</th>\n",
       "      <th>Min(each subject)</th>\n",
       "      <th>Avg(Each subject)</th>\n",
       "    </tr>\n",
       "  </thead>\n",
       "  <tbody>\n",
       "    <tr>\n",
       "      <th>0</th>\n",
       "      <td>Maths</td>\n",
       "      <td>58.0</td>\n",
       "      <td>62</td>\n",
       "      <td>85</td>\n",
       "      <td>58.0</td>\n",
       "      <td>65.75</td>\n",
       "    </tr>\n",
       "    <tr>\n",
       "      <th>1</th>\n",
       "      <td>Pysichs</td>\n",
       "      <td>45.0</td>\n",
       "      <td>76</td>\n",
       "      <td>92</td>\n",
       "      <td>45.0</td>\n",
       "      <td>64.50</td>\n",
       "    </tr>\n",
       "    <tr>\n",
       "      <th>2</th>\n",
       "      <td>Chemistry</td>\n",
       "      <td>72.0</td>\n",
       "      <td>85</td>\n",
       "      <td>91</td>\n",
       "      <td>72.0</td>\n",
       "      <td>80.00</td>\n",
       "    </tr>\n",
       "    <tr>\n",
       "      <th>3</th>\n",
       "      <td>English</td>\n",
       "      <td>32.0</td>\n",
       "      <td>51</td>\n",
       "      <td>81</td>\n",
       "      <td>32.0</td>\n",
       "      <td>49.00</td>\n",
       "    </tr>\n",
       "    <tr>\n",
       "      <th>4</th>\n",
       "      <td>Min(each student)</td>\n",
       "      <td>32.0</td>\n",
       "      <td>51</td>\n",
       "      <td>81</td>\n",
       "      <td>NaN</td>\n",
       "      <td>NaN</td>\n",
       "    </tr>\n",
       "    <tr>\n",
       "      <th>5</th>\n",
       "      <td>Avg(Each Student)</td>\n",
       "      <td>47.8</td>\n",
       "      <td>65</td>\n",
       "      <td>86</td>\n",
       "      <td>NaN</td>\n",
       "      <td>NaN</td>\n",
       "    </tr>\n",
       "  </tbody>\n",
       "</table>\n",
       "</div>"
      ],
      "text/plain": [
       "          Unnamed: 0  Ravi  Sunil  Sekhar  Min(each subject)  \\\n",
       "0             Maths   58.0     62      85               58.0   \n",
       "1            Pysichs  45.0     76      92               45.0   \n",
       "2          Chemistry  72.0     85      91               72.0   \n",
       "3            English  32.0     51      81               32.0   \n",
       "4  Min(each student)  32.0     51      81                NaN   \n",
       "5  Avg(Each Student)  47.8     65      86                NaN   \n",
       "\n",
       "   Avg(Each subject)  \n",
       "0              65.75  \n",
       "1              64.50  \n",
       "2              80.00  \n",
       "3              49.00  \n",
       "4                NaN  \n",
       "5                NaN  "
      ]
     },
     "execution_count": 148,
     "metadata": {},
     "output_type": "execute_result"
    }
   ],
   "source": [
    "Studentdata  #All the asked task done in excel."
   ]
  },
  {
   "cell_type": "markdown",
   "metadata": {},
   "source": [
    "End of the task 3"
   ]
  },
  {
   "cell_type": "markdown",
   "metadata": {},
   "source": [
    "# Difference between Python list and array"
   ]
  },
  {
   "cell_type": "markdown",
   "metadata": {},
   "source": [
    "\"\"\"What Is a List in Python?\n",
    "\n",
    "\n",
    "A list is a data structure that's built into Python and holds a collection of items. \n",
    "Lists have a number of important characteristics:\n",
    "\n",
    "List items are enclosed in square brackets, like this [item1, item2, item3].\n",
    "Lists are ordered – i.e. the items in the list appear in a specific order. This enables us to use an index to access to any item.\n",
    "Lists are mutable, which means you can add or remove items after a list's creation.\n",
    "List elements do not need to be unique. Item duplication is possible, as each element has its own distinct place and can be accessed separately through the index.\n",
    "Elements can be of different data types: you can combine strings, integers, and objects in the same list.\n",
    "\n",
    "It can be writen as Lists are very easily created in Python:\n",
    "\n",
    "list = [3, 6, 9, 12]\n",
    "print(list)\n",
    "print(type(list))\"\"\""
   ]
  },
  {
   "cell_type": "markdown",
   "metadata": {},
   "source": [
    "What Is an Array in Python?\n",
    "\n",
    "\n",
    "\"\"\"An array is also a data structure that stores a collection of items. Like lists, arrays are ordered, mutable, enclosed in square brackets, and able to store non-unique items.\n",
    "\n",
    "But when it comes to the array's ability to store different data types, the answer is not as straightforward. It depends on the kind of array used.\n",
    "\n",
    "To use arrays in Python, you need to import either an array module or a NumPy package.\n",
    "To use arrays in Python, you need to import either an array module or a NumPy package.\n",
    "\n",
    "import array as arr\n",
    "\"\"\""
   ]
  },
  {
   "cell_type": "markdown",
   "metadata": {},
   "source": [
    "Arrays need to be declared. Lists don't, \n",
    "Arrays can store data very compactly,\n",
    "Arrays are great for numerical operations"
   ]
  },
  {
   "cell_type": "markdown",
   "metadata": {},
   "source": [
    "List Can consist of elements belonging to different data types\n",
    "But array Only consists of elements belonging to the same data type"
   ]
  },
  {
   "cell_type": "markdown",
   "metadata": {},
   "source": [
    "End of the task4"
   ]
  },
  {
   "cell_type": "markdown",
   "metadata": {},
   "source": [
    "Assignment complited"
   ]
  },
  {
   "cell_type": "code",
   "execution_count": null,
   "metadata": {},
   "outputs": [],
   "source": []
  }
 ],
 "metadata": {
  "kernelspec": {
   "display_name": "Python 3",
   "language": "python",
   "name": "python3"
  },
  "language_info": {
   "codemirror_mode": {
    "name": "ipython",
    "version": 3
   },
   "file_extension": ".py",
   "mimetype": "text/x-python",
   "name": "python",
   "nbconvert_exporter": "python",
   "pygments_lexer": "ipython3",
   "version": "3.8.5"
  }
 },
 "nbformat": 4,
 "nbformat_minor": 4
}
